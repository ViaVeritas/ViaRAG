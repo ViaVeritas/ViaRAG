{
 "cells": [
  {
   "cell_type": "markdown",
   "id": "190d00be",
   "metadata": {
    "vscode": {
     "languageId": "raw"
    }
   },
   "source": [
    "# Building a Document Q&A Chatbot with ViaRAG\n",
    "\n",
    "This notebook will guide you through building a simple chatbot that can answer questions about your documents using ViaRAG's RAG (Retrieval Augmented Generation) capabilities.\n",
    "\n",
    "## What we'll build:\n",
    "1. Upload and index a document\n",
    "2. Create a simple chat interface\n",
    "3. Ask questions about the document's content\n",
    "4. Get AI-generated responses backed by the document's context\n",
    "\n",
    "> **Note:** Replace `your_api_key` with your actual API key from ViaRAG.\n"
   ]
  },
  {
   "cell_type": "markdown",
   "id": "bc40a8d7",
   "metadata": {
    "vscode": {
     "languageId": "raw"
    }
   },
   "source": [
    "## Install Required Packages\n",
    "\n",
    "First, let's install the necessary packages. Run the cell below to install:\n",
    "- `viarag`: The ViaRAG Python SDK\n",
    "- `ipywidgets`: For interactive widgets in the notebook\n"
   ]
  },
  {
   "cell_type": "code",
   "execution_count": 5,
   "id": "25c6fd80",
   "metadata": {},
   "outputs": [
    {
     "name": "stdout",
     "output_type": "stream",
     "text": [
      "\n",
      "\u001b[1m[\u001b[0m\u001b[34;49mnotice\u001b[0m\u001b[1;39;49m]\u001b[0m\u001b[39;49m A new release of pip is available: \u001b[0m\u001b[31;49m25.0.1\u001b[0m\u001b[39;49m -> \u001b[0m\u001b[32;49m25.1.1\u001b[0m\n",
      "\u001b[1m[\u001b[0m\u001b[34;49mnotice\u001b[0m\u001b[1;39;49m]\u001b[0m\u001b[39;49m To update, run: \u001b[0m\u001b[32;49mpip install --upgrade pip\u001b[0m\n",
      "Note: you may need to restart the kernel to use updated packages.\n",
      "✅ Packages installed successfully!\n"
     ]
    }
   ],
   "source": [
    "%pip install viarag ipywidgets --quiet\n",
    "print(\"✅ Packages installed successfully!\")\n"
   ]
  },
  {
   "cell_type": "code",
   "execution_count": 14,
   "id": "64ba234a",
   "metadata": {},
   "outputs": [
    {
     "ename": "ModuleNotFoundError",
     "evalue": "No module named 'viaRAG'",
     "output_type": "error",
     "traceback": [
      "\u001b[0;31m---------------------------------------------------------------------------\u001b[0m",
      "\u001b[0;31mModuleNotFoundError\u001b[0m                       Traceback (most recent call last)",
      "Cell \u001b[0;32mIn[14], line 1\u001b[0m\n\u001b[0;32m----> 1\u001b[0m \u001b[38;5;28;01mfrom\u001b[39;00m\u001b[38;5;250m \u001b[39m\u001b[38;5;21;01mviaRAG\u001b[39;00m\u001b[38;5;21;01m.\u001b[39;00m\u001b[38;5;21;01mclient\u001b[39;00m\u001b[38;5;250m \u001b[39m\u001b[38;5;28;01mimport\u001b[39;00m ViaRAGClient\n\u001b[1;32m      2\u001b[0m \u001b[38;5;28;01mimport\u001b[39;00m\u001b[38;5;250m \u001b[39m\u001b[38;5;21;01mipywidgets\u001b[39;00m\u001b[38;5;250m \u001b[39m\u001b[38;5;28;01mas\u001b[39;00m\u001b[38;5;250m \u001b[39m\u001b[38;5;21;01mwidgets\u001b[39;00m\n\u001b[1;32m      3\u001b[0m \u001b[38;5;28;01mfrom\u001b[39;00m\u001b[38;5;250m \u001b[39m\u001b[38;5;21;01mIPython\u001b[39;00m\u001b[38;5;21;01m.\u001b[39;00m\u001b[38;5;21;01mdisplay\u001b[39;00m\u001b[38;5;250m \u001b[39m\u001b[38;5;28;01mimport\u001b[39;00m display, clear_output\n",
      "\u001b[0;31mModuleNotFoundError\u001b[0m: No module named 'viaRAG'"
     ]
    }
   ],
   "source": [
    "from viaRAG.client import ViaRAGClient\n",
    "import ipywidgets as widgets\n",
    "from IPython.display import display, clear_output\n",
    "\n",
    "# Initialize the client\n",
    "client = ViaRAGClient(api_key=\"sk_rag_328e8e705119aca7c8e20eb382f600acfe630382fe22f696b369aa151a00a8e7\")\n",
    "\n",
    "# Verify connection\n",
    "health_status = client.health_check()\n",
    "print(\"API Connection Status:\", health_status)\n"
   ]
  },
  {
   "cell_type": "markdown",
   "id": "b48951e3",
   "metadata": {
    "vscode": {
     "languageId": "raw"
    }
   },
   "source": [
    "## Step 1: Upload and Index a Document\n",
    "\n",
    "First, let's upload a document that our chatbot will use as its knowledge base. ViaRAG supports `.pdf`, `.docx`, and `.txt` files.\n",
    "\n",
    "> 💡 **Tip**: Choose a document with clear, factual content that you want to ask questions about. For example:\n",
    "> - A research paper\n",
    "> - Technical documentation\n",
    "> - Company policies\n",
    "> - Educational material\n"
   ]
  },
  {
   "cell_type": "code",
   "execution_count": null,
   "id": "dde624c3",
   "metadata": {},
   "outputs": [],
   "source": [
    "# Replace with your document's path\n",
    "document_path = \"/Users/ericmeltser/ViaRAG/Simple Agreement for Future Equity - ViaRAG.pdf\"\n",
    "\n",
    "# Upload with optimal chunking settings for Q&A\n",
    "try:\n",
    "    upload_response = client.upload_document(\n",
    "        file_path=document_path,\n",
    "        metadata={\"type\": \"knowledge_base\"},\n",
    "        chunking_config={\n",
    "            \"chunk_size\": 1000,  # Smaller chunks for precise retrieval\n",
    "            \"chunk_overlap\": 200  # Decent overlap to maintain context\n",
    "        }\n",
    "    )\n",
    "    print(\"✅ Document uploaded successfully!\")\n",
    "    print(\"Document ID:\", upload_response.get(\"doc_id\", \"Not provided\"))\n",
    "except Exception as e:\n",
    "    print(\"❌ Upload failed:\", str(e))\n"
   ]
  },
  {
   "cell_type": "markdown",
   "id": "d6585398",
   "metadata": {
    "vscode": {
     "languageId": "raw"
    }
   },
   "source": [
    "## Step 2: Create a Chat Interface\n",
    "\n",
    "Now let's create a simple chat interface using IPython widgets. This will make it easy to interact with our document-based chatbot.\n"
   ]
  },
  {
   "cell_type": "markdown",
   "id": "6d163e03",
   "metadata": {
    "vscode": {
     "languageId": "raw"
    }
   },
   "source": [
    "## Step 3: Start Chatting!\n",
    "\n",
    "Now you can start asking questions about your document. The chatbot will:\n",
    "1. Take your question\n",
    "2. Find the most relevant parts of your document\n",
    "3. Generate a response based on the document content\n",
    "4. Show you the source passages it used\n",
    "\n",
    "Some example questions you might ask:\n",
    "- \"What are the main points of this document?\"\n",
    "- \"Can you summarize the section about X?\"\n",
    "- \"What does the document say about Y?\"\n",
    "- \"Explain the process described in the document.\"\n",
    "\n",
    "> 💡 **Tip**: For best results, ask clear and specific questions. The more specific your question, the more precise the response will be.\n"
   ]
  },
  {
   "cell_type": "markdown",
   "id": "c67fee12",
   "metadata": {
    "vscode": {
     "languageId": "raw"
    }
   },
   "source": [
    "## Cleanup (Optional)\n",
    "\n",
    "If you want to remove the document from the system later, you can use the code below:\n"
   ]
  },
  {
   "cell_type": "code",
   "execution_count": null,
   "id": "356271de",
   "metadata": {},
   "outputs": [],
   "source": [
    "# List your documents\n",
    "docs = client.list_documents()\n",
    "print(\"Your documents:\", docs)\n",
    "\n",
    "# Delete a specific document (replace with your document ID)\n",
    "# client.delete_document_by_id(\"your_document_id\")\n"
   ]
  }
 ],
 "metadata": {
  "kernelspec": {
   "display_name": "Python 3",
   "language": "python",
   "name": "python3"
  },
  "language_info": {
   "codemirror_mode": {
    "name": "ipython",
    "version": 3
   },
   "file_extension": ".py",
   "mimetype": "text/x-python",
   "name": "python",
   "nbconvert_exporter": "python",
   "pygments_lexer": "ipython3",
   "version": "3.11.2"
  }
 },
 "nbformat": 4,
 "nbformat_minor": 5
}
